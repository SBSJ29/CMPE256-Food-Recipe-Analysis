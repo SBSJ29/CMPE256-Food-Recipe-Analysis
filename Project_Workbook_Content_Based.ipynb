{
 "cells": [
  {
   "cell_type": "code",
   "execution_count": 1,
   "metadata": {},
   "outputs": [],
   "source": [
    "import pandas as pd\n",
    "import numpy as np\n",
    "from sklearn.feature_extraction.text import TfidfVectorizer\n",
    "from sklearn.metrics.pairwise import cosine_similarity"
   ]
  },
  {
   "cell_type": "code",
   "execution_count": 2,
   "metadata": {},
   "outputs": [],
   "source": [
    "data = pd.read_csv('./Data/interactions_train.csv')"
   ]
  },
  {
   "cell_type": "code",
   "execution_count": 3,
   "metadata": {},
   "outputs": [],
   "source": [
    "recipe_data = pd.read_csv('./Data/RAW_recipes.csv')\n",
    "recipe_data = recipe_data.rename(columns={\"id\": \"recipe_id\"})\n",
    "recipe_data = recipe_data.iloc[:100000]"
   ]
  },
  {
   "cell_type": "code",
   "execution_count": 4,
   "metadata": {},
   "outputs": [],
   "source": [
    "merged_recipe_interaction_data = data.merge(recipe_data, how='inner', on='recipe_id', sort=True)"
   ]
  },
  {
   "cell_type": "code",
   "execution_count": 5,
   "metadata": {},
   "outputs": [],
   "source": [
    "user_recipe_matrix = merged_recipe_interaction_data[['user_id', 'recipe_id', 'u', 'i', 'date', 'name', 'rating']]"
   ]
  },
  {
   "cell_type": "code",
   "execution_count": 6,
   "metadata": {},
   "outputs": [],
   "source": [
    "user_recipe_matrix = user_recipe_matrix.pivot_table(index='user_id', columns='recipe_id', values='rating')"
   ]
  },
  {
   "cell_type": "code",
   "execution_count": 8,
   "metadata": {},
   "outputs": [],
   "source": [
    "recipe_data.reset_index(level = 0, inplace = True, drop=True)\n",
    "ind = pd.Series(recipe_data.index, index = recipe_data['name'])\n",
    "vectorizer = TfidfVectorizer(ngram_range=(2, 2), stop_words='english')\n",
    "tf_data = vectorizer.fit_transform(recipe_data['name'].values.astype('U'))\n",
    "sim_matrix = cosine_similarity(tf_data)"
   ]
  },
  {
   "cell_type": "code",
   "execution_count": 9,
   "metadata": {},
   "outputs": [],
   "source": [
    "def recommend_from_id(recipe_id, top_n):\n",
    "    indx = recipe_data.index[recipe_data['recipe_id'] == recipe_id]\n",
    "    sim = list(enumerate(sim_matrix[indx][0]))\n",
    "    sim = sorted(sim, key=lambda x:x[1], reverse=True)\n",
    "    sim = sim[1:top_n+1]\n",
    "    item_list = []\n",
    "    for item in sim:\n",
    "        r_item = (recipe_data.iloc[item[0]]['recipe_id'], item[0], item[1])\n",
    "        item_list.append(r_item)\n",
    "    return item_list"
   ]
  },
  {
   "cell_type": "code",
   "execution_count": 112,
   "metadata": {},
   "outputs": [],
   "source": [
    "def recommend_for_user(user_id, top_n=10):\n",
    "    # Create set to store recommendations\n",
    "    recs = []\n",
    "    # Get recipe ids of recipes user rated\n",
    "    user_vector = user_recipe_matrix.iloc[user_id]\n",
    "    recipe_ids = user_vector[~np.isnan(user_vector)].index.tolist()\n",
    "    # Generate recommendations for each recipe id and store it in a set\n",
    "    for recipe_id in recipe_ids:\n",
    "        rating = user_vector[recipe_id]\n",
    "        rec_list = recommend_from_id(recipe_id, top_n)\n",
    "        rec_new_list = [tuple([rating]+list(rec)) for rec in rec_list]\n",
    "        recs.extend(rec_new_list)\n",
    "    # sort the set based on the similarity\n",
    "    sorted_recs = sorted(recs, key=lambda x:x[3], reverse=True)\n",
    "    # recommend top n similar items\n",
    "    final_recs = []\n",
    "    for item in sorted_recs:\n",
    "        rec_item = (recipe_data.iloc[item[2]]['name'], item[0], item[1], item[2], item[3], item[0]*item[3])\n",
    "        final_recs.append(rec_item)\n",
    "    item_rating_map_numer = dict()\n",
    "    item_rating_map_denom = dict()\n",
    "    ignore_list = []\n",
    "    for rec in final_recs:\n",
    "        if rec[4] != 0:\n",
    "            if str(rec[2]) in item_rating_map_numer.keys() and str(rec[2]) in item_rating_map_denom.keys():\n",
    "                item_rating_map_numer[str(rec[2])] += rec[5]\n",
    "                item_rating_map_denom[str(rec[2])] += rec[4]\n",
    "            else:\n",
    "                item_rating_map_numer[str(rec[2])] = rec[5]\n",
    "                item_rating_map_denom[str(rec[2])] = rec[4]\n",
    "        else:\n",
    "            ignore_list.append(rec[2])\n",
    "    scored_recs = []\n",
    "    for rec in final_recs:\n",
    "        if rec[2] not in ignore_list:\n",
    "            score_rec_item = (item_rating_map_numer[str(rec[2])]/item_rating_map_denom[str(rec[2])], rec[0], rec[1], rec[2], rec[3], rec[4], rec[5])\n",
    "            scored_recs.append(score_rec_item)\n",
    "    sorted_scored_recs = sorted(scored_recs, key=lambda x:x[0], reverse=True)\n",
    "    return sorted_scored_recs[:top_n]"
   ]
  },
  {
   "cell_type": "code",
   "execution_count": 115,
   "metadata": {},
   "outputs": [
    {
     "data": {
      "text/plain": [
       "[(5.0,\n",
       "  'brussels sprouts with black pepper butter   hazelnuts',\n",
       "  5.0,\n",
       "  95489,\n",
       "  30798,\n",
       "  0.5446774733549232,\n",
       "  2.7233873667746162),\n",
       " (5.0,\n",
       "  'butter cookies',\n",
       "  5.0,\n",
       "  106361,\n",
       "  31779,\n",
       "  0.47215445172129916,\n",
       "  2.3607722586064956),\n",
       " (5.0,\n",
       "  'g  g  s butter cookies',\n",
       "  5.0,\n",
       "  338221,\n",
       "  89493,\n",
       "  0.47215445172129916,\n",
       "  2.3607722586064956),\n",
       " (5.0,\n",
       "  'grilled corn with red pepper butter',\n",
       "  5.0,\n",
       "  245789,\n",
       "  98776,\n",
       "  0.4165077631020702,\n",
       "  2.0825388155103512),\n",
       " (5.0,\n",
       "  '1 2 3 peanut butter cookies',\n",
       "  5.0,\n",
       "  377326,\n",
       "  779,\n",
       "  0.36873102171315714,\n",
       "  1.8436551085657857),\n",
       " (5.0,\n",
       "  'b b s peanut butter cookies',\n",
       "  5.0,\n",
       "  315591,\n",
       "  11783,\n",
       "  0.36873102171315714,\n",
       "  1.8436551085657857),\n",
       " (5.0,\n",
       "  'black pepper pasta',\n",
       "  5.0,\n",
       "  36165,\n",
       "  24647,\n",
       "  0.33357825476262654,\n",
       "  1.6678912738131326),\n",
       " (5.0,\n",
       "  'black pepper shrimp',\n",
       "  5.0,\n",
       "  331637,\n",
       "  24649,\n",
       "  0.32566319149385,\n",
       "  1.6283159574692498),\n",
       " (5.0,\n",
       "  'black pepper biscuits',\n",
       "  5.0,\n",
       "  330225,\n",
       "  24633,\n",
       "  0.3202026149427287,\n",
       "  1.6010130747136437),\n",
       " (5.0,\n",
       "  'black pepper honey',\n",
       "  5.0,\n",
       "  215579,\n",
       "  24641,\n",
       "  0.3168082533574604,\n",
       "  1.5840412667873018)]"
      ]
     },
     "execution_count": 115,
     "metadata": {},
     "output_type": "execute_result"
    }
   ],
   "source": [
    "recommend_for_user(2369)"
   ]
  },
  {
   "cell_type": "code",
   "execution_count": null,
   "metadata": {},
   "outputs": [],
   "source": []
  }
 ],
 "metadata": {
  "accelerator": "GPU",
  "colab": {
   "gpuType": "T4",
   "provenance": []
  },
  "kernelspec": {
   "display_name": "Python 3 (ipykernel)",
   "language": "python",
   "name": "python3"
  },
  "language_info": {
   "codemirror_mode": {
    "name": "ipython",
    "version": 3
   },
   "file_extension": ".py",
   "mimetype": "text/x-python",
   "name": "python",
   "nbconvert_exporter": "python",
   "pygments_lexer": "ipython3",
   "version": "3.9.13"
  }
 },
 "nbformat": 4,
 "nbformat_minor": 1
}
