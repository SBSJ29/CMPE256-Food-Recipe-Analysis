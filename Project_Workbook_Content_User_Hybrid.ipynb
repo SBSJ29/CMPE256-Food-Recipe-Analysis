{
 "cells": [
  {
   "cell_type": "code",
   "execution_count": 1,
   "id": "dad6f26f",
   "metadata": {},
   "outputs": [],
   "source": [
    "import pandas as pd\n",
    "import numpy as np\n",
    "from sklearn.feature_extraction.text import TfidfVectorizer\n",
    "from sklearn.metrics.pairwise import cosine_similarity\n",
    "from numpy.linalg import norm\n",
    "from scipy.sparse import csr_matrix, lil_matrix\n",
    "from scipy.sparse import save_npz\n",
    "from joblib import Parallel, delayed\n",
    "import multiprocessing\n",
    "from sklearn.preprocessing import normalize"
   ]
  },
  {
   "cell_type": "code",
   "execution_count": 2,
   "id": "0fe0bcd9",
   "metadata": {},
   "outputs": [],
   "source": [
    "data = pd.read_csv('./Data/interactions_train.csv')"
   ]
  },
  {
   "cell_type": "code",
   "execution_count": 3,
   "id": "e0acfe9c",
   "metadata": {},
   "outputs": [],
   "source": [
    "recipe_data = pd.read_csv('./Data/RAW_recipes.csv')\n",
    "recipe_data = recipe_data.rename(columns={\"id\": \"recipe_id\"})\n",
    "recipe_data = recipe_data.iloc[:100000]"
   ]
  },
  {
   "cell_type": "code",
   "execution_count": 4,
   "id": "a2590d72",
   "metadata": {},
   "outputs": [],
   "source": [
    "merged_recipe_interaction_data = data.merge(recipe_data, how='inner', on='recipe_id', sort=True)"
   ]
  },
  {
   "cell_type": "code",
   "execution_count": 5,
   "id": "077dbef3",
   "metadata": {},
   "outputs": [],
   "source": [
    "user_recipe_matrix = merged_recipe_interaction_data[['user_id', 'recipe_id', 'u', 'i', 'date', 'name', 'rating']]\n",
    "user_recipe_matrix = user_recipe_matrix.pivot_table(index='user_id', columns='recipe_id', values='rating')"
   ]
  },
  {
   "cell_type": "code",
   "execution_count": 6,
   "id": "a0df026c",
   "metadata": {},
   "outputs": [],
   "source": [
    "recipe_data.reset_index(level = 0, inplace = True, drop=True)\n",
    "ind = pd.Series(recipe_data.index, index = recipe_data['name'])\n",
    "vectorizer = TfidfVectorizer(ngram_range=(2, 2), stop_words='english')\n",
    "tf_data = vectorizer.fit_transform(recipe_data['name'].values.astype('U'))\n",
    "sim_matrix = cosine_similarity(tf_data)"
   ]
  },
  {
   "cell_type": "code",
   "execution_count": 7,
   "id": "5406f6b5",
   "metadata": {},
   "outputs": [],
   "source": [
    "def recommend_from_id(recipe_id, top_n):\n",
    "    indx = recipe_data.index[recipe_data['recipe_id'] == recipe_id]\n",
    "    sim = list(enumerate(sim_matrix[indx][0]))\n",
    "    sim = sorted(sim, key=lambda x:x[1], reverse=True)\n",
    "    sim = sim[1:top_n+1]\n",
    "    item_list = []\n",
    "    for item in sim:\n",
    "        r_item = (recipe_data.iloc[item[0]]['recipe_id'], item[0], item[1])\n",
    "        item_list.append(r_item)\n",
    "    return item_list"
   ]
  },
  {
   "cell_type": "code",
   "execution_count": 8,
   "id": "ab84ce5e",
   "metadata": {},
   "outputs": [],
   "source": [
    "def recommend_for_user(user_id, top_n=10):\n",
    "    # Create set to store recommendations\n",
    "    recs = []\n",
    "    # Get recipe ids of recipes user rated\n",
    "    user_vector = user_recipe_matrix.iloc[user_id]\n",
    "    recipe_ids = user_vector[~np.isnan(user_vector)].index.tolist()\n",
    "    # Generate recommendations for each recipe id and store it in a set\n",
    "    for recipe_id in recipe_ids:\n",
    "        rating = user_vector[recipe_id]\n",
    "        rec_list = recommend_from_id(recipe_id, top_n)\n",
    "        rec_new_list = [tuple([rating]+list(rec)) for rec in rec_list]\n",
    "        recs.extend(rec_new_list)\n",
    "    # sort the set based on the similarity\n",
    "    sorted_recs = sorted(recs, key=lambda x:x[3], reverse=True)\n",
    "    # recommend top n similar items\n",
    "    final_recs = []\n",
    "    for item in sorted_recs:\n",
    "        rec_item = (recipe_data.iloc[item[2]]['name'], item[0], item[1], item[2], item[3], item[0]*item[3])\n",
    "        final_recs.append(rec_item)\n",
    "    item_rating_map_numer = dict()\n",
    "    item_rating_map_denom = dict()\n",
    "    ignore_list = []\n",
    "    for rec in final_recs:\n",
    "        if rec[4] != 0:\n",
    "            if str(rec[2]) in item_rating_map_numer.keys() and str(rec[2]) in item_rating_map_denom.keys():\n",
    "                item_rating_map_numer[str(rec[2])] += rec[5]\n",
    "                item_rating_map_denom[str(rec[2])] += rec[4]\n",
    "            else:\n",
    "                item_rating_map_numer[str(rec[2])] = rec[5]\n",
    "                item_rating_map_denom[str(rec[2])] = rec[4]\n",
    "        else:\n",
    "            ignore_list.append(rec[2])\n",
    "    scored_recs = []\n",
    "    for rec in final_recs:\n",
    "        if rec[2] not in ignore_list:\n",
    "            score_rec_item = (item_rating_map_numer[str(rec[2])]/item_rating_map_denom[str(rec[2])], rec[0], rec[1], rec[2], rec[3], rec[4], rec[5])\n",
    "            scored_recs.append(score_rec_item)\n",
    "    sorted_scored_recs = sorted(scored_recs, key=lambda x:x[0], reverse=True)\n",
    "    return sorted_scored_recs[:top_n]"
   ]
  },
  {
   "cell_type": "code",
   "execution_count": 9,
   "id": "1f82febd",
   "metadata": {},
   "outputs": [],
   "source": [
    "train_df = pd.read_csv('./Data/interactions_train.csv')\n",
    "filtered_df = train_df[train_df['rating'] >= 4][['u', 'i']]\n",
    "filtered_df['u'] = filtered_df['u'].astype('category')\n",
    "filtered_df['i'] = filtered_df['i'].astype('category')\n",
    "min_ratings = 2  # Need at least two users that have rated one item\n",
    "counts = filtered_df['i'].value_counts()\n",
    "filtered_df = filtered_df[filtered_df['i'].isin(counts[counts >= min_ratings].index)]"
   ]
  },
  {
   "cell_type": "code",
   "execution_count": 10,
   "id": "70814489",
   "metadata": {},
   "outputs": [
    {
     "data": {
      "text/plain": [
       "<153630x24846 sparse matrix of type '<class 'numpy.float64'>'\n",
       "\twith 580819 stored elements in Compressed Sparse Row format>"
      ]
     },
     "execution_count": 10,
     "metadata": {},
     "output_type": "execute_result"
    }
   ],
   "source": [
    "# Map categories to indices\n",
    "user_ids = filtered_df['u'].cat.codes\n",
    "item_ids = filtered_df['i'].cat.codes\n",
    "item_user_matrix_csr = csr_matrix((np.ones(len(filtered_df)), (item_ids, user_ids)))\n",
    "item_user_matrix_csr"
   ]
  },
  {
   "cell_type": "code",
   "execution_count": 11,
   "id": "fa919a88",
   "metadata": {},
   "outputs": [],
   "source": [
    "# Normalize the item vectors\n",
    "normalized_item_vectors = normalize(item_user_matrix_csr, axis=1, norm='l2')"
   ]
  },
  {
   "cell_type": "code",
   "execution_count": 12,
   "id": "505a4bb8",
   "metadata": {},
   "outputs": [],
   "source": [
    "# Function to compute the top 20 similarities for a single item\n",
    "def compute_item_similarity(item_index, item_vectors):\n",
    "    similarities = cosine_similarity(item_vectors[item_index], item_vectors).flatten()\n",
    "    top_indices = np.argsort(-similarities)[1:21]  # Exclude the item itself and get top 20\n",
    "    top_similarities = similarities[top_indices]\n",
    "    return item_index, top_indices, top_similarities\n",
    "\n",
    "# Function to compute top 20 similarity matrix using parallel processing\n",
    "def compute_top_20_similarity_matrix_parallel(item_vectors, n_jobs=20):\n",
    "    num_items = item_vectors.shape[0]\n",
    "    similarity_matrix = lil_matrix((num_items, num_items))\n",
    "\n",
    "    results = Parallel(n_jobs=n_jobs)(\n",
    "        delayed(compute_item_similarity)(i, item_vectors) for i in range(num_items)\n",
    "    )\n",
    "\n",
    "    for item_index, top_indices, top_similarities in results:\n",
    "        for index, similarity in zip(top_indices, top_similarities):\n",
    "            similarity_matrix[item_index, index] = similarity\n",
    "\n",
    "    return similarity_matrix.tocsr()"
   ]
  },
  {
   "cell_type": "code",
   "execution_count": 13,
   "id": "247fa187",
   "metadata": {},
   "outputs": [],
   "source": [
    "from scipy.sparse import load_npz\n",
    "similarity_matrix = load_npz(\"./similarity_matrix_IB.npz\")\n",
    "\n",
    "user_item_matrix_csr = csr_matrix((np.ones(len(filtered_df)), (user_ids, item_ids)))"
   ]
  },
  {
   "cell_type": "code",
   "execution_count": 14,
   "id": "12196496",
   "metadata": {},
   "outputs": [],
   "source": [
    "def get_ib_recommendations_with_scores(user_index, item_user_matrix, similarity_matrix, top_n=10):\n",
    "    # Get the items that this user has interacted with\n",
    "    interacted_items = item_user_matrix[:, user_index].nonzero()[0]\n",
    "\n",
    "    # Dictionary to keep track of items and their highest similarity score\n",
    "    item_scores = {}\n",
    "\n",
    "    for item in interacted_items:\n",
    "        # Get the top N similar items for this item\n",
    "        top_similar_items = np.argsort(-similarity_matrix[item].toarray().ravel())[1:top_n+1]\n",
    "\n",
    "        # Find the highest similarity score among these top similar items\n",
    "        for similar_item in top_similar_items:\n",
    "            if similar_item not in interacted_items:  # Skip items the user has already interacted with\n",
    "                current_score = similarity_matrix[item, similar_item]\n",
    "                if similar_item in item_scores:\n",
    "                    item_scores[similar_item] = max(item_scores[similar_item], current_score)\n",
    "                else:\n",
    "                    item_scores[similar_item] = current_score\n",
    "\n",
    "    # Sort items by their highest similarity score and get the top N\n",
    "    top_items_and_scores = sorted(item_scores.items(), key=lambda x: x[1], reverse=True)[:top_n]\n",
    "\n",
    "    return [(item, score) for item, score in top_items_and_scores]"
   ]
  },
  {
   "cell_type": "code",
   "execution_count": 63,
   "id": "47428049",
   "metadata": {},
   "outputs": [],
   "source": [
    "def parallel_ib_recommendations_with_scores(user_index):\n",
    "    return get_ib_recommendations_with_scores(user_index, item_user_matrix_csr, similarity_matrix, top_n=5)"
   ]
  },
  {
   "cell_type": "code",
   "execution_count": 17,
   "id": "e8ba5485",
   "metadata": {},
   "outputs": [],
   "source": [
    "def u_lookup(user_id):\n",
    "    u = train_df[train_df['user_id'] == user_id]['u']\n",
    "    return u.iloc[0]"
   ]
  },
  {
   "cell_type": "code",
   "execution_count": 122,
   "id": "e6001695",
   "metadata": {},
   "outputs": [],
   "source": [
    "def recipe_lookup(i):\n",
    "    r_id = train_df[train_df['i'] == i]['recipe_id']\n",
    "    return r_id.iloc[0]"
   ]
  },
  {
   "cell_type": "code",
   "execution_count": 146,
   "id": "9547cffc",
   "metadata": {},
   "outputs": [],
   "source": [
    "def i_lookup(recipe_id):\n",
    "    i = train_df[train_df['recipe_id'] == recipe_id]['i']\n",
    "    if len(i) > 0:\n",
    "        return i.iloc[0]    \n",
    "    return -1"
   ]
  },
  {
   "cell_type": "code",
   "execution_count": 164,
   "id": "365b3375",
   "metadata": {},
   "outputs": [],
   "source": [
    "def hybrid_recommend(user_id):\n",
    "    u = u_lookup(user_id)\n",
    "    content_recs = recommend_for_user(user_id, top_n=5)\n",
    "    reduced_content_recs = []\n",
    "    for rec in content_recs:\n",
    "        reduced_rec = (rec[3], rec[5])\n",
    "        reduced_content_recs.append(reduced_rec)\n",
    "    item_based_recs = parallel_ib_recommendations_with_scores(u)\n",
    "    reduced_content_recs.extend(item_based_recs)\n",
    "    sorted_recs = sorted(reduced_content_recs, key=lambda x:x[1], reverse=True)\n",
    "    return sorted_recs[:10]"
   ]
  },
  {
   "cell_type": "code",
   "execution_count": 165,
   "id": "3f071d08",
   "metadata": {},
   "outputs": [
    {
     "data": {
      "text/plain": [
       "[(62913, 0.632455532033676),\n",
       " (98165, 0.632455532033676),\n",
       " (87220, 0.632455532033676),\n",
       " (80451, 0.632455532033676),\n",
       " (315403, 0.5302631129228309),\n",
       " (30660, 0.5163977794943224),\n",
       " (353600, 0.4885146749447504),\n",
       " (135585, 0.4743302627134814),\n",
       " (458464, 0.4593491403505437),\n",
       " (504083, 0.4276582548319066)]"
      ]
     },
     "execution_count": 165,
     "metadata": {},
     "output_type": "execute_result"
    }
   ],
   "source": [
    "hybrid_recommend(1535)"
   ]
  },
  {
   "cell_type": "code",
   "execution_count": null,
   "id": "11fd19e4",
   "metadata": {},
   "outputs": [],
   "source": []
  }
 ],
 "metadata": {
  "kernelspec": {
   "display_name": "Python 3 (ipykernel)",
   "language": "python",
   "name": "python3"
  },
  "language_info": {
   "codemirror_mode": {
    "name": "ipython",
    "version": 3
   },
   "file_extension": ".py",
   "mimetype": "text/x-python",
   "name": "python",
   "nbconvert_exporter": "python",
   "pygments_lexer": "ipython3",
   "version": "3.9.13"
  }
 },
 "nbformat": 4,
 "nbformat_minor": 5
}
