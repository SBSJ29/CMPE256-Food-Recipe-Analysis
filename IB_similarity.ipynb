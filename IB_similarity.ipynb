{
 "cells": [
  {
   "cell_type": "code",
   "execution_count": 1,
   "id": "e1893d1d",
   "metadata": {},
   "outputs": [],
   "source": [
    "import pandas as pd\n",
    "import numpy as np\n",
    "from numpy.linalg import norm\n",
    "from sklearn.metrics.pairwise import cosine_similarity\n",
    "from scipy.sparse import csr_matrix, lil_matrix\n",
    "from scipy.sparse import save_npz\n",
    "from joblib import Parallel, delayed\n",
    "import multiprocessing\n",
    "from sklearn.preprocessing import normalize"
   ]
  },
  {
   "cell_type": "code",
   "execution_count": 2,
   "id": "db85d641",
   "metadata": {
    "scrolled": true
   },
   "outputs": [
    {
     "data": {
      "text/html": [
       "<div>\n",
       "<style scoped>\n",
       "    .dataframe tbody tr th:only-of-type {\n",
       "        vertical-align: middle;\n",
       "    }\n",
       "\n",
       "    .dataframe tbody tr th {\n",
       "        vertical-align: top;\n",
       "    }\n",
       "\n",
       "    .dataframe thead th {\n",
       "        text-align: right;\n",
       "    }\n",
       "</style>\n",
       "<table border=\"1\" class=\"dataframe\">\n",
       "  <thead>\n",
       "    <tr style=\"text-align: right;\">\n",
       "      <th></th>\n",
       "      <th>u</th>\n",
       "      <th>i</th>\n",
       "    </tr>\n",
       "  </thead>\n",
       "  <tbody>\n",
       "    <tr>\n",
       "      <th>0</th>\n",
       "      <td>22095</td>\n",
       "      <td>44367</td>\n",
       "    </tr>\n",
       "    <tr>\n",
       "      <th>1</th>\n",
       "      <td>22095</td>\n",
       "      <td>87844</td>\n",
       "    </tr>\n",
       "    <tr>\n",
       "      <th>2</th>\n",
       "      <td>24732</td>\n",
       "      <td>138181</td>\n",
       "    </tr>\n",
       "    <tr>\n",
       "      <th>3</th>\n",
       "      <td>24732</td>\n",
       "      <td>93054</td>\n",
       "    </tr>\n",
       "    <tr>\n",
       "      <th>4</th>\n",
       "      <td>22095</td>\n",
       "      <td>101723</td>\n",
       "    </tr>\n",
       "    <tr>\n",
       "      <th>...</th>\n",
       "      <td>...</td>\n",
       "      <td>...</td>\n",
       "    </tr>\n",
       "    <tr>\n",
       "      <th>698896</th>\n",
       "      <td>13681</td>\n",
       "      <td>141067</td>\n",
       "    </tr>\n",
       "    <tr>\n",
       "      <th>698897</th>\n",
       "      <td>14897</td>\n",
       "      <td>99787</td>\n",
       "    </tr>\n",
       "    <tr>\n",
       "      <th>698898</th>\n",
       "      <td>11605</td>\n",
       "      <td>76163</td>\n",
       "    </tr>\n",
       "    <tr>\n",
       "      <th>698899</th>\n",
       "      <td>3604</td>\n",
       "      <td>29101</td>\n",
       "    </tr>\n",
       "    <tr>\n",
       "      <th>698900</th>\n",
       "      <td>2248</td>\n",
       "      <td>21514</td>\n",
       "    </tr>\n",
       "  </tbody>\n",
       "</table>\n",
       "<p>580819 rows × 2 columns</p>\n",
       "</div>"
      ],
      "text/plain": [
       "            u       i\n",
       "0       22095   44367\n",
       "1       22095   87844\n",
       "2       24732  138181\n",
       "3       24732   93054\n",
       "4       22095  101723\n",
       "...       ...     ...\n",
       "698896  13681  141067\n",
       "698897  14897   99787\n",
       "698898  11605   76163\n",
       "698899   3604   29101\n",
       "698900   2248   21514\n",
       "\n",
       "[580819 rows x 2 columns]"
      ]
     },
     "execution_count": 2,
     "metadata": {},
     "output_type": "execute_result"
    }
   ],
   "source": [
    "train_df = pd.read_csv('interactions_train.csv')\n",
    "filtered_df = train_df[train_df['rating'] >= 4][['u', 'i']]\n",
    "filtered_df['u'] = filtered_df['u'].astype('category')\n",
    "filtered_df['i'] = filtered_df['i'].astype('category')\n",
    "min_ratings = 2  # Need at least two users that have rated one item\n",
    "counts = filtered_df['i'].value_counts()\n",
    "filtered_df = filtered_df[filtered_df['i'].isin(counts[counts >= min_ratings].index)]\n",
    "filtered_df"
   ]
  },
  {
   "cell_type": "code",
   "execution_count": 3,
   "id": "1046bef1-8041-45fb-981e-ff05486cbc8b",
   "metadata": {},
   "outputs": [
    {
     "data": {
      "text/plain": [
       "<153630x24846 sparse matrix of type '<class 'numpy.float64'>'\n",
       "\twith 580819 stored elements in Compressed Sparse Row format>"
      ]
     },
     "execution_count": 3,
     "metadata": {},
     "output_type": "execute_result"
    }
   ],
   "source": [
    "# Map categories to indices\n",
    "user_ids = filtered_df['u'].cat.codes\n",
    "item_ids = filtered_df['i'].cat.codes\n",
    "item_user_matrix_csr = csr_matrix((np.ones(len(filtered_df)), (item_ids, user_ids)))\n",
    "item_user_matrix_csr"
   ]
  },
  {
   "cell_type": "code",
   "execution_count": 4,
   "id": "d4e3cf16-6138-4c25-9c26-55e0ab66fc18",
   "metadata": {},
   "outputs": [],
   "source": [
    "# Normalize the item vectors\n",
    "normalized_item_vectors = normalize(item_user_matrix_csr, axis=1, norm='l2')"
   ]
  },
  {
   "cell_type": "code",
   "execution_count": 5,
   "id": "6c8bd4da-d707-47c3-9a6c-eb17eeaefd47",
   "metadata": {},
   "outputs": [],
   "source": [
    "# Function to compute the top 20 similarities for a single item\n",
    "def compute_item_similarity(item_index, item_vectors):\n",
    "    similarities = cosine_similarity(item_vectors[item_index], item_vectors).flatten()\n",
    "    top_indices = np.argsort(-similarities)[1:21]  # Exclude the item itself and get top 20\n",
    "    top_similarities = similarities[top_indices]\n",
    "    return item_index, top_indices, top_similarities\n",
    "\n",
    "# Function to compute top 20 similarity matrix using parallel processing\n",
    "def compute_top_20_similarity_matrix_parallel(item_vectors, n_jobs=20):\n",
    "    num_items = item_vectors.shape[0]\n",
    "    similarity_matrix = lil_matrix((num_items, num_items))\n",
    "\n",
    "    results = Parallel(n_jobs=n_jobs)(\n",
    "        delayed(compute_item_similarity)(i, item_vectors) for i in range(num_items)\n",
    "    )\n",
    "\n",
    "    for item_index, top_indices, top_similarities in results:\n",
    "        for index, similarity in zip(top_indices, top_similarities):\n",
    "            similarity_matrix[item_index, index] = similarity\n",
    "\n",
    "    return similarity_matrix.tocsr()"
   ]
  },
  {
   "cell_type": "code",
   "execution_count": 6,
   "id": "b5bc8dbe",
   "metadata": {
    "slideshow": {
     "slide_type": ""
    },
    "tags": []
   },
   "outputs": [],
   "source": [
    "# Compute the similarity matrix\n",
    "similarity_matrix = compute_top_20_similarity_matrix_parallel(normalized_item_vectors, n_jobs=20)"
   ]
  },
  {
   "cell_type": "code",
   "execution_count": 7,
   "id": "247726f3",
   "metadata": {},
   "outputs": [
    {
     "data": {
      "text/plain": [
       "<153630x153630 sparse matrix of type '<class 'numpy.float64'>'\n",
       "\twith 1768057 stored elements in Compressed Sparse Row format>"
      ]
     },
     "execution_count": 7,
     "metadata": {},
     "output_type": "execute_result"
    }
   ],
   "source": [
    "similarity_matrix"
   ]
  },
  {
   "cell_type": "code",
   "execution_count": 9,
   "id": "6f56556a-0155-4d2e-9085-2c439c512a74",
   "metadata": {},
   "outputs": [],
   "source": [
    "save_npz(\"similarity_matrix_IB.npz\", similarity_matrix)"
   ]
  },
  {
   "cell_type": "code",
   "execution_count": 6,
   "id": "50987408-0440-4e1d-af4b-895cb90f2817",
   "metadata": {},
   "outputs": [],
   "source": [
    "from scipy.sparse import load_npz\n",
    "similarity_matrix = load_npz(\"similarity_matrix_IB.npz\")\n",
    "\n",
    "user_item_matrix_csr = csr_matrix((np.ones(len(filtered_df)), (user_ids, item_ids)))"
   ]
  },
  {
   "cell_type": "code",
   "execution_count": 17,
   "id": "baf317b3-ca7e-4667-9c69-d8f1c1af2776",
   "metadata": {},
   "outputs": [],
   "source": [
    "def get_ib_recommendations_with_scores(user_index, item_user_matrix, similarity_matrix, top_n=10):\n",
    "    # Get the items that this user has interacted with\n",
    "    interacted_items = item_user_matrix[:, user_index].nonzero()[0]\n",
    "\n",
    "    # Dictionary to keep track of items and their highest similarity score\n",
    "    item_scores = {}\n",
    "\n",
    "    for item in interacted_items:\n",
    "        # Get the top N similar items for this item\n",
    "        top_similar_items = np.argsort(-similarity_matrix[item].toarray().ravel())[1:top_n+1]\n",
    "\n",
    "        # Find the highest similarity score among these top similar items\n",
    "        for similar_item in top_similar_items:\n",
    "            if similar_item not in interacted_items:  # Skip items the user has already interacted with\n",
    "                current_score = similarity_matrix[item, similar_item]\n",
    "                if similar_item in item_scores:\n",
    "                    item_scores[similar_item] = max(item_scores[similar_item], current_score)\n",
    "                else:\n",
    "                    item_scores[similar_item] = current_score\n",
    "\n",
    "    # Sort items by their highest similarity score and get the top N\n",
    "    top_items_and_scores = sorted(item_scores.items(), key=lambda x: x[1], reverse=True)[:top_n]\n",
    "\n",
    "    return [(item, score) for item, score in top_items_and_scores]"
   ]
  },
  {
   "cell_type": "code",
   "execution_count": 18,
   "id": "10847fdd-bf5c-4f25-b756-5d8c5005067c",
   "metadata": {},
   "outputs": [
    {
     "name": "stdout",
     "output_type": "stream",
     "text": [
      "                                   0                             1  \\\n",
      "0        (80039, 0.5000000000000001)   (98679, 0.5000000000000001)   \n",
      "1       (134459, 0.5773502691896258)   (31121, 0.5773502691896258)   \n",
      "2       (121023, 0.7071067811865476)   (17664, 0.7071067811865476)   \n",
      "3       (124114, 0.8164965809277261)  (136635, 0.8164965809277261)   \n",
      "4        (89736, 0.8164965809277261)   (82098, 0.8164965809277261)   \n",
      "...                              ...                           ...   \n",
      "24841  (147807, 0.22360679774997902)  (79431, 0.22360679774997902)   \n",
      "24842  (111387, 0.27854300726557785)   (2980, 0.26261286571944514)   \n",
      "24843    (142461, 0.632455532033676)    (30666, 0.447213595499958)   \n",
      "24844    (85391, 0.3651483716701108)  (144092, 0.3651483716701108)   \n",
      "24845   (142593, 0.4082482904638631)   (54275, 0.4082482904638631)   \n",
      "\n",
      "                                   2                              3  \\\n",
      "0       (137127, 0.5000000000000001)    (54545, 0.5000000000000001)   \n",
      "1       (151405, 0.5773502691896258)    (77459, 0.5773502691896258)   \n",
      "2       (115568, 0.5773502691896258)   (105021, 0.5000000000000001)   \n",
      "3        (78168, 0.8164965809277261)    (94507, 0.8164965809277261)   \n",
      "4        (39871, 0.8164965809277261)    (66323, 0.8164965809277261)   \n",
      "...                              ...                            ...   \n",
      "24841  (100113, 0.22360679774997902)     (792, 0.22360679774997902)   \n",
      "24842   (81282, 0.26261286571944514)  (125088, 0.26261286571944514)   \n",
      "24843    (120119, 0.447213595499958)    (92972, 0.3651483716701108)   \n",
      "24844     (65095, 0.298142396999972)  (124689, 0.26726124191242445)   \n",
      "24845   (116223, 0.4082482904638631)    (68978, 0.4082482904638631)   \n",
      "\n",
      "                                  4                              5  \\\n",
      "0      (138086, 0.5000000000000001)   (118905, 0.5000000000000001)   \n",
      "1       (49537, 0.5773502691896258)    (76388, 0.5773502691896258)   \n",
      "2        (9770, 0.5000000000000001)    (44380, 0.5000000000000001)   \n",
      "3       (17728, 0.8164965809277261)   (130846, 0.8164965809277261)   \n",
      "4       (22364, 0.8164965809277261)    (70251, 0.8164965809277261)   \n",
      "...                             ...                            ...   \n",
      "24841  (98996, 0.22360679774997902)   (11885, 0.22360679774997902)   \n",
      "24842  (54498, 0.26261286571944514)  (146168, 0.26261286571944514)   \n",
      "24843  (107069, 0.3651483716701108)    (81712, 0.3380617018914067)   \n",
      "24844  (92213, 0.26726124191242445)   (19553, 0.26726124191242445)   \n",
      "24845  (129251, 0.4082482904638631)    (18961, 0.4082482904638631)   \n",
      "\n",
      "                                  6                              7  \\\n",
      "0       (92308, 0.5000000000000001)    (41901, 0.5000000000000001)   \n",
      "1        (1663, 0.5773502691896258)    (39720, 0.5477225575051663)   \n",
      "2       (19393, 0.5000000000000001)    (95209, 0.5000000000000001)   \n",
      "3       (81778, 0.8164965809277261)    (54628, 0.8164965809277261)   \n",
      "4       (66134, 0.7071067811865476)   (152135, 0.7071067811865476)   \n",
      "...                             ...                            ...   \n",
      "24841  (28598, 0.22360679774997902)  (138079, 0.22360679774997902)   \n",
      "24842  (56150, 0.26261286571944514)   (46749, 0.26261286571944514)   \n",
      "24843    (12111, 0.316227766016838)      (9630, 0.316227766016838)   \n",
      "24844  (69950, 0.26726124191242445)    (3474, 0.26726124191242445)   \n",
      "24845  (147486, 0.4082482904638631)     (8829, 0.4082482904638631)   \n",
      "\n",
      "                                   8                              9  \n",
      "0       (111490, 0.5000000000000001)    (92876, 0.5000000000000001)  \n",
      "1        (52196, 0.5000000000000001)    (17470, 0.5000000000000001)  \n",
      "2        (72454, 0.5000000000000001)                  (107525, 0.5)  \n",
      "3        (85432, 0.8164965809277261)   (150088, 0.8164965809277261)  \n",
      "4        (41558, 0.7071067811865476)    (63591, 0.7071067811865476)  \n",
      "...                              ...                            ...  \n",
      "24841   (41522, 0.22360679774997902)  (128095, 0.22360679774997902)  \n",
      "24842   (64601, 0.26261286571944514)   (14770, 0.26261286571944514)  \n",
      "24843     (84753, 0.316227766016838)     (13946, 0.316227766016838)  \n",
      "24844  (131342, 0.26726124191242445)  (125824, 0.26726124191242445)  \n",
      "24845    (99448, 0.4082482904638631)   (128652, 0.4082482904638631)  \n",
      "\n",
      "[24846 rows x 10 columns]\n"
     ]
    }
   ],
   "source": [
    "def parallel_ib_recommendations_with_scores(user_index):\n",
    "    return get_ib_recommendations_with_scores(user_index, item_user_matrix_csr, similarity_matrix, top_n=10)\n",
    "\n",
    "# Generate recommendations for each user using parallel processing\n",
    "score_results = Parallel(n_jobs=20)(delayed(parallel_ib_recommendations_with_scores)(i) for i in range(item_user_matrix_csr.shape[1]))\n",
    "\n",
    "# Convert results to a DataFrame\n",
    "score_recommendation_df = pd.DataFrame(score_results)\n",
    "print(score_recommendation_df)"
   ]
  },
  {
   "cell_type": "code",
   "execution_count": 19,
   "id": "a8ca5e5e-88e5-42e4-bb8b-af03f3371bdb",
   "metadata": {},
   "outputs": [],
   "source": [
    "# Save to CSV\n",
    "score_recommendation_df.to_csv(\"item_recommendation_scores.csv\", index=False, header=False)"
   ]
  },
  {
   "cell_type": "code",
   "execution_count": null,
   "id": "c56cace7-34b6-47fc-b30e-82a2d4aa008d",
   "metadata": {},
   "outputs": [],
   "source": []
  }
 ],
 "metadata": {
  "kernelspec": {
   "display_name": "Python 3 (ipykernel)",
   "language": "python",
   "name": "python3"
  },
  "language_info": {
   "codemirror_mode": {
    "name": "ipython",
    "version": 3
   },
   "file_extension": ".py",
   "mimetype": "text/x-python",
   "name": "python",
   "nbconvert_exporter": "python",
   "pygments_lexer": "ipython3",
   "version": "3.9.13"
  }
 },
 "nbformat": 4,
 "nbformat_minor": 5
}
